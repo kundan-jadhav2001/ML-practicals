{
 "cells": [
  {
   "cell_type": "code",
   "execution_count": 1,
   "id": "4db82124",
   "metadata": {},
   "outputs": [],
   "source": [
    "# Apply SVM for binary classification (versicolor vs non-\n",
    "# versicolor) on Iris data set. Use linear kernel function.\n",
    "# Comment on the accuracy."
   ]
  },
  {
   "cell_type": "code",
   "execution_count": 2,
   "id": "863d8338",
   "metadata": {},
   "outputs": [],
   "source": [
    "from sklearn import datasets\n",
    "from sklearn.model_selection import train_test_split\n",
    "from sklearn.svm import SVC\n",
    "from sklearn.metrics import accuracy_score, classification_report"
   ]
  },
  {
   "cell_type": "code",
   "execution_count": 10,
   "id": "48e31a5c",
   "metadata": {},
   "outputs": [],
   "source": [
    "# Load the Iris dataset\n",
    "iris = datasets.load_iris()\n",
    "X = iris.data\n",
    "y = iris.target\n",
    "\n",
    "# Convert it into a binary classification problem\n",
    "# Versicolor (class 1) vs. Non-Versicolor (classes 0 and 2)\n",
    "y_binary = (y == 1)"
   ]
  },
  {
   "cell_type": "code",
   "execution_count": 11,
   "id": "c7d85c60",
   "metadata": {},
   "outputs": [],
   "source": [
    "X_train, X_test, y_train, y_test = train_test_split(X, y_binary, test_size=0.2, random_state=42)"
   ]
  },
  {
   "cell_type": "code",
   "execution_count": 12,
   "id": "a47dbc6e",
   "metadata": {},
   "outputs": [],
   "source": [
    "# Create and train an SVM classifier with a linear kernel\n",
    "svm_classifier = SVC(kernel='linear')\n",
    "svm_classifier.fit(X_train, y_train)\n",
    "\n",
    "# Make predictions on the test set\n",
    "svm_predictions = svm_classifier.predict(X_test)"
   ]
  },
  {
   "cell_type": "code",
   "execution_count": 13,
   "id": "1dd198d9",
   "metadata": {},
   "outputs": [
    {
     "name": "stdout",
     "output_type": "stream",
     "text": [
      "SVM Classification Results:\n",
      "Accuracy: 0.7666666666666667\n",
      "Classification Report:\n",
      "              precision    recall  f1-score   support\n",
      "\n",
      "       False       0.79      0.90      0.84        21\n",
      "        True       0.67      0.44      0.53         9\n",
      "\n",
      "    accuracy                           0.77        30\n",
      "   macro avg       0.73      0.67      0.69        30\n",
      "weighted avg       0.75      0.77      0.75        30\n",
      "\n"
     ]
    }
   ],
   "source": [
    "# Calculate and print the accuracy of the SVM classifier\n",
    "accuracy = accuracy_score(y_test, svm_predictions)\n",
    "classification = classification_report(y_test, svm_predictions)\n",
    "\n",
    "print(\"SVM Classification Results:\")\n",
    "print(f\"Accuracy: {accuracy}\")\n",
    "print(\"Classification Report:\")\n",
    "print(classification)\n"
   ]
  },
  {
   "cell_type": "code",
   "execution_count": null,
   "id": "f629ad4e",
   "metadata": {},
   "outputs": [],
   "source": []
  },
  {
   "cell_type": "code",
   "execution_count": null,
   "id": "f28d852f",
   "metadata": {},
   "outputs": [],
   "source": []
  }
 ],
 "metadata": {
  "kernelspec": {
   "display_name": "Python 3 (ipykernel)",
   "language": "python",
   "name": "python3"
  },
  "language_info": {
   "codemirror_mode": {
    "name": "ipython",
    "version": 3
   },
   "file_extension": ".py",
   "mimetype": "text/x-python",
   "name": "python",
   "nbconvert_exporter": "python",
   "pygments_lexer": "ipython3",
   "version": "3.10.9"
  }
 },
 "nbformat": 4,
 "nbformat_minor": 5
}
